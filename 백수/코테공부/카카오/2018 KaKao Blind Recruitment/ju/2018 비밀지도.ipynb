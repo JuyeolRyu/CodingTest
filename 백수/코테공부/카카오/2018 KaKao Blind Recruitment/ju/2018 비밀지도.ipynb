{
 "cells": [
  {
   "cell_type": "code",
   "execution_count": null,
   "metadata": {},
   "outputs": [],
   "source": [
    "def solution(n, arr1, arr2):\n",
    "    answer = []\n",
    "    \n",
    "    for i in range(n):\n",
    "        tmp = \"\"\n",
    "        bin1 = change_bin(arr1[i],n)\n",
    "        bin2 = change_bin(arr2[i],n)\n",
    "        for j in range(n): #답 만들기\n",
    "            if(bin1[j] == '0' and bin2[j] == '0'):\n",
    "                tmp = tmp + \" \"\n",
    "            else:\n",
    "                tmp = tmp + \"#\"\n",
    "        answer.append(tmp)\n",
    "    return answer\n",
    "\n",
    "def change_bin(arr,n): #이진수로 바꿔주기\n",
    "    bin1 = str(bin(arr)) #비교하기 편하게 문자열로 바꿈\n",
    "    bin1 = bin1[2:] #앞의 두자리 0b 빼주기\n",
    "    while(True):\n",
    "        if(len(bin1) == n):\n",
    "            break\n",
    "        else:#길이 맞게 0 추가\n",
    "            bin1 = '0' + bin1\n",
    "            \n",
    "    return bin1"
   ]
  }
 ],
 "metadata": {
  "kernelspec": {
   "display_name": "Python 3",
   "language": "python",
   "name": "python3"
  },
  "language_info": {
   "codemirror_mode": {
    "name": "ipython",
    "version": 3
   },
   "file_extension": ".py",
   "mimetype": "text/x-python",
   "name": "python",
   "nbconvert_exporter": "python",
   "pygments_lexer": "ipython3",
   "version": "3.7.4"
  }
 },
 "nbformat": 4,
 "nbformat_minor": 2
}
