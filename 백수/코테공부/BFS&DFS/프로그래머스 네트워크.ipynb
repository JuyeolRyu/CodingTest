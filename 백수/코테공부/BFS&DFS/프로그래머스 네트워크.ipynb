{
 "cells": [
  {
   "cell_type": "code",
   "execution_count": 16,
   "metadata": {},
   "outputs": [
    {
     "name": "stdout",
     "output_type": "stream",
     "text": [
      "0 0\n",
      "0 1\n",
      "[1]\n",
      "0 2\n",
      "1 0\n",
      "1 1\n",
      "1 2\n",
      "2 0\n",
      "2 1\n",
      "2 2\n"
     ]
    },
    {
     "data": {
      "text/plain": [
       "2"
      ]
     },
     "execution_count": 16,
     "metadata": {},
     "output_type": "execute_result"
    }
   ],
   "source": [
    "def solution(n, computers):\n",
    "    answer = 0\n",
    "    visited = [False] * len(computers)\n",
    "    queue = []\n",
    "    #너비탐색\n",
    "    def bfs(queue,computers):\n",
    "        #지역변수 answer 사용\n",
    "        nonlocal answer\n",
    "        #큐에서 방문할 노드를 pop, 그리고 해당 노드 방문 체크를 한다.\n",
    "        node = queue.pop(0)\n",
    "        visited[node] = True\n",
    "        \n",
    "        #자신, 연결됨, 방문하지 않았던 노드를 큐에 추가\n",
    "        for i in range(n):\n",
    "            if(i != node and computers[node][i] == 1 and visited[i] == False):\n",
    "                queue.append(i)\n",
    "        \n",
    "        #큐가 비었으면 더이상 연결된 노드가 없으므로 return\n",
    "        if(len(queue) == 0):\n",
    "            answer += 1\n",
    "            return;\n",
    "        #재귀\n",
    "        bfs(queue,computers)\n",
    "                    \n",
    "    for j in range(n):\n",
    "        if(visited[j] == False):\n",
    "            queue.append(j)\n",
    "            bfs(queue,computers)\n",
    "            \n",
    "    return answer"
   ]
  }
 ],
 "metadata": {
  "kernelspec": {
   "display_name": "Python 3",
   "language": "python",
   "name": "python3"
  },
  "language_info": {
   "codemirror_mode": {
    "name": "ipython",
    "version": 3
   },
   "file_extension": ".py",
   "mimetype": "text/x-python",
   "name": "python",
   "nbconvert_exporter": "python",
   "pygments_lexer": "ipython3",
   "version": "3.7.4"
  }
 },
 "nbformat": 4,
 "nbformat_minor": 4
}
