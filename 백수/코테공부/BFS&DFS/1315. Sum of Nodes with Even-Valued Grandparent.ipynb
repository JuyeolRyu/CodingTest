{
 "cells": [
  {
   "cell_type": "code",
   "execution_count": null,
   "metadata": {},
   "outputs": [],
   "source": [
    "# Definition for a binary tree node.\n",
    "# class TreeNode:\n",
    "#     def __init__(self, val=0, left=None, right=None):\n",
    "#         self.val = val\n",
    "#         self.left = left\n",
    "#         self.right = right\n",
    "class Solution:\n",
    "    ans = 0\n",
    "    def sumEvenGrandparent(self, root: TreeNode) -> int:\n",
    "        if not root:\n",
    "            return\n",
    "        \n",
    "        queue = []\n",
    "        queue.append(root)\n",
    "        \n",
    "        while queue: \n",
    "            node = queue.pop(0)\n",
    "\n",
    "            if(node.val % 2 == 0):\n",
    "                if(node.left):\n",
    "                    if(node.left.left):\n",
    "                        self.ans += node.left.left.val\n",
    "                    if(node.left.right):\n",
    "                        self.ans += node.left.right.val\n",
    "                if(node.right):\n",
    "                    if(node.right.left):\n",
    "                        self.ans += node.right.left.val\n",
    "                    if(node.right.right):\n",
    "                        self.ans += node.right.right.val\n",
    "                        \n",
    "            if(node.left):\n",
    "                queue.append(node.left)\n",
    "            if(node.right):\n",
    "                queue.append(node.right)\n",
    "        return self.ans"
   ]
  }
 ],
 "metadata": {
  "kernelspec": {
   "display_name": "Python 3",
   "language": "python",
   "name": "python3"
  },
  "language_info": {
   "codemirror_mode": {
    "name": "ipython",
    "version": 3
   },
   "file_extension": ".py",
   "mimetype": "text/x-python",
   "name": "python",
   "nbconvert_exporter": "python",
   "pygments_lexer": "ipython3",
   "version": "3.7.4"
  }
 },
 "nbformat": 4,
 "nbformat_minor": 4
}
