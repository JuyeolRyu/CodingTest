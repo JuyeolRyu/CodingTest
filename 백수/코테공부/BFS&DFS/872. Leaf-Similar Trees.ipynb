{
 "cells": [
  {
   "cell_type": "code",
   "execution_count": null,
   "metadata": {},
   "outputs": [],
   "source": [
    "# Definition for a binary tree node.\n",
    "# class TreeNode:\n",
    "#     def __init__(self, val=0, left=None, right=None):\n",
    "#         self.val = val\n",
    "#         self.left = left\n",
    "#         self.right = right\n",
    "class Solution:\n",
    "    def getLeafNode(self, root):\n",
    "        leaf_node = []\n",
    "\n",
    "        if (not root.left) and (not root.right):\n",
    "            return root.val\n",
    "        \n",
    "        if root.left:\n",
    "            tmp = self.getLeafNode(root.left)\n",
    "            if(isinstance(tmp,list)):\n",
    "                leaf_node.extend(tmp)\n",
    "            else:\n",
    "                leaf_node.append(tmp)\n",
    "            \n",
    "        if root.right:\n",
    "            tmp = self.getLeafNode(root.right)\n",
    "            if(isinstance(tmp,list)):\n",
    "                leaf_node.extend(tmp)\n",
    "            else:\n",
    "                leaf_node.append(tmp)\n",
    "\n",
    "        return leaf_node\n",
    "    \n",
    "    def leafSimilar(self, root1: TreeNode, root2: TreeNode) -> bool:\n",
    "        leaf1 = self.getLeafNode(root1)\n",
    "        leaf2 = self.getLeafNode(root2)\n",
    "\n",
    "        if(leaf1 == leaf2):\n",
    "            return True\n",
    "        \n",
    "        return False"
   ]
  }
 ],
 "metadata": {
  "kernelspec": {
   "display_name": "Python 3",
   "language": "python",
   "name": "python3"
  },
  "language_info": {
   "codemirror_mode": {
    "name": "ipython",
    "version": 3
   },
   "file_extension": ".py",
   "mimetype": "text/x-python",
   "name": "python",
   "nbconvert_exporter": "python",
   "pygments_lexer": "ipython3",
   "version": "3.7.4"
  }
 },
 "nbformat": 4,
 "nbformat_minor": 4
}
