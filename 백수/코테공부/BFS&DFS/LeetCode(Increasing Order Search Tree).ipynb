{
 "cells": [
  {
   "cell_type": "code",
   "execution_count": null,
   "metadata": {},
   "outputs": [],
   "source": [
    "# Definition for a binary tree node.\n",
    "# class TreeNode:\n",
    "#     def __init__(self, val=0, left=None, right=None):\n",
    "#         self.val = val\n",
    "#         self.left = left\n",
    "#         self.right = right\n",
    "class Solution:\n",
    "    def increasingBST(self, root: TreeNode) -> TreeNode:\n",
    "        def dfs(root):\n",
    "            nonlocal tmp,answer\n",
    "            \n",
    "            #현재 노드가 None 이면 return\n",
    "            if(root is None):\n",
    "                return\n",
    "            else:\n",
    "                #왼쪽 자식 탐색\n",
    "                dfs(root.left)\n",
    "                #새 노드 생성\n",
    "                newNode = TreeNode(root.val)\n",
    "                #생성된 노드를 현재 노드의 오른쪽 자식에 넣음\n",
    "                tmp.right = newNode\n",
    "                #현재 노드를 오른쪽 자식노드로 변경\n",
    "                tmp = tmp.right\n",
    "                #오른쪽 탐색\n",
    "                dfs(root.right)\n",
    "        \n",
    "        #루트 생성\n",
    "        answer = TreeNode(None)\n",
    "        tmp = answer\n",
    "        \n",
    "        #inorder 탐색 시작\n",
    "        dfs(root)\n",
    "        return answer.right"
   ]
  }
 ],
 "metadata": {
  "kernelspec": {
   "display_name": "Python 3",
   "language": "python",
   "name": "python3"
  },
  "language_info": {
   "codemirror_mode": {
    "name": "ipython",
    "version": 3
   },
   "file_extension": ".py",
   "mimetype": "text/x-python",
   "name": "python",
   "nbconvert_exporter": "python",
   "pygments_lexer": "ipython3",
   "version": "3.7.4"
  }
 },
 "nbformat": 4,
 "nbformat_minor": 4
}
