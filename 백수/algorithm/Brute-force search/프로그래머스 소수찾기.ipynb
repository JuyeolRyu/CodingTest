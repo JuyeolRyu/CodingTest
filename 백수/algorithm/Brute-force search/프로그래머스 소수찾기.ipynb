{
 "cells": [
  {
   "cell_type": "code",
   "execution_count": null,
   "metadata": {},
   "outputs": [],
   "source": [
    "#리스트의 모든 순열을 찾아주는 모듈\n",
    "#combinations 사용하면 순서를 생각안하는 조합을 찾아줌\n",
    "from itertools import permutations \n",
    "\n",
    "#소수 개수 찾는 메소드\n",
    "def count_prim_num(num_list): \n",
    "    cnt = 0\n",
    "    for num in num_list:\n",
    "        #0또는1은 소수가 아니므로 넘어간다\n",
    "        if(num == 0 or num ==1): \n",
    "            continue\n",
    "            \n",
    "        check = False\n",
    "        \n",
    "        #범위 2~num-1 까지 탐색한다. ==> num은 num으로 무조건 나눠 지므로 생각할 필요 없다.\n",
    "        for i in range(2,num):\n",
    "            #나눠지는 수가 있으면 소수가 아니므로 반복문 탈출\n",
    "            if(num % i == 0):   \n",
    "                check = True\n",
    "                break\n",
    "                \n",
    "        #check == false 면 한번도 나눠진적이 없으므로 소수이다.       \n",
    "        if(check == False):     \n",
    "            cnt += 1\n",
    "    return cnt\n",
    "def solution(numbers):\n",
    "    answer = 0\n",
    "    number = []\n",
    "    num_list = []\n",
    "    \n",
    "    #숫자를 한자리씩 잘라서 리스트에 추가\n",
    "    for i in numbers:       \n",
    "        number.append(i)\n",
    "    \n",
    "    #만들어질수 있는 모든 순열을 생성해서 num_list에 추가\n",
    "    for i in range(len(numbers)):    \n",
    "        num_list.extend(list(set(map(''.join,permutations(numbers,i+1)))))\n",
    "    \n",
    "    #만들어진 리스트에는 01 과 1 같은 경우를 구분해 놨으므로 map(int,list)로 해당 경우를 같은수로 만든다.\n",
    "    #그 후에 set으로 중복을 제거하고 리스트로 만든다.\n",
    "    num_list = list(set(map(int,num_list))) \n",
    "    \n",
    "    #소수의 개수 세기\n",
    "    answer = count_prim_num(num_list)\n",
    "    return answer"
   ]
  }
 ],
 "metadata": {
  "kernelspec": {
   "display_name": "Python 3",
   "language": "python",
   "name": "python3"
  },
  "language_info": {
   "codemirror_mode": {
    "name": "ipython",
    "version": 3
   },
   "file_extension": ".py",
   "mimetype": "text/x-python",
   "name": "python",
   "nbconvert_exporter": "python",
   "pygments_lexer": "ipython3",
   "version": "3.7.4"
  }
 },
 "nbformat": 4,
 "nbformat_minor": 4
}
