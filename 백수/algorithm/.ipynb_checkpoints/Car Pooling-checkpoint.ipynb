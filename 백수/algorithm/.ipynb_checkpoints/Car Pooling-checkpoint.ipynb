{
 "cells": [
  {
   "cell_type": "code",
   "execution_count": null,
   "metadata": {},
   "outputs": [],
   "source": [
    "#####################################################################\n",
    "#1094. Car Pooling                                                  #\n",
    "#https://leetcode.com/problems/car-pooling/                         #\n",
    "#####################################################################"
   ]
  },
  {
   "cell_type": "code",
   "execution_count": null,
   "metadata": {},
   "outputs": [],
   "source": [
    "#solution1\n",
    "class Solution:\n",
    "    def carPooling(self, trips: List[List[int]], capacity: int) -> bool:\n",
    "        f_point = max([i[2] for i in trips])\n",
    "        lst = [0 for _ in range(f_point)]\n",
    "        \n",
    "        for n,start,end in trips:\n",
    "            for idx in range(start-1,end-1):\n",
    "                lst[idx] += n\n",
    "\n",
    "        return max(lst) <= capacity\n",
    "    "
   ]
  },
  {
   "cell_type": "code",
   "execution_count": null,
   "metadata": {},
   "outputs": [],
   "source": [
    "#solution2\n",
    "class Solution:\n",
    "    def carPooling(self, trips: List[List[int]], capacity: int) -> bool:\n",
    "        for _, n in sorted(x for n, start, end in trips for x in [[start, n], [end, -n]]):\n",
    "            capacity -= n\n",
    "            if capacity < 0:\n",
    "                return False\n",
    "        return True"
   ]
  }
 ],
 "metadata": {
  "kernelspec": {
   "display_name": "Python 3",
   "language": "python",
   "name": "python3"
  },
  "language_info": {
   "codemirror_mode": {
    "name": "ipython",
    "version": 3
   },
   "file_extension": ".py",
   "mimetype": "text/x-python",
   "name": "python",
   "nbconvert_exporter": "python",
   "pygments_lexer": "ipython3",
   "version": "3.7.4"
  }
 },
 "nbformat": 4,
 "nbformat_minor": 4
}
