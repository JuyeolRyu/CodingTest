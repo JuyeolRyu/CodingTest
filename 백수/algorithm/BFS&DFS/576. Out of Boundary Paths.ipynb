{
 "cells": [
  {
   "cell_type": "code",
   "execution_count": null,
   "metadata": {},
   "outputs": [],
   "source": [
    "class Solution:\n",
    "    row_size = 0\n",
    "    col_size = 0\n",
    "    def dfs(self,N,i,j):\n",
    "        ans = 0\n",
    "    \n",
    "        if(i<0 or i>=self.row_size or j<0 or j>=self.col_size):\n",
    "            return 1\n",
    "        elif(N==0):\n",
    "            return 0\n",
    "\n",
    "        ans += self.dfs(N-1,i-1,j) + self.dfs(N-1,i+1,j) + self.dfs(N-1,i,j-1) + self.dfs(N-1,i,j+1)\n",
    "        \n",
    "        return ans\n",
    "    def findPaths(self, m: int, n: int, N: int, i: int, j: int) -> int:\n",
    "        #값 넣어주기\n",
    "        self.row_size = m\n",
    "        self.col_size = n\n",
    "        \n",
    "        return self.dfs(N,i,j) % (10**9 + 7)\n",
    "#===================================================================================================================\n",
    "class Solution:\n",
    "    def findPaths(self, m: int, n: int, N: int, i: int, j: int) -> int:\n",
    "        def dfs(N,i,j,checkList):\n",
    "            if (i,j,N) in checkList:\n",
    "                return checkList[(i,j,N)]\n",
    "            if i < 0 or i >= m or j < 0 or j >= n:\n",
    "                return 1\n",
    "            elif N==0:\n",
    "                return 0\n",
    "\n",
    "            ans = 0\n",
    "            \n",
    "            ans += dfs(N-1,i+1,j,checkList) + dfs(N-1,i,j+1,checkList) + dfs(N-1,i-1,j,checkList) + dfs(N-1,i,j-1,checkList)\n",
    "            \n",
    "            checkList[(i,j,N)] = ans\n",
    "            return ans\n",
    "\n",
    "        return dfs(N,i,j,{}) % (10**9 + 7)"
   ]
  }
 ],
 "metadata": {
  "kernelspec": {
   "display_name": "Python 3",
   "language": "python",
   "name": "python3"
  },
  "language_info": {
   "codemirror_mode": {
    "name": "ipython",
    "version": 3
   },
   "file_extension": ".py",
   "mimetype": "text/x-python",
   "name": "python",
   "nbconvert_exporter": "python",
   "pygments_lexer": "ipython3",
   "version": "3.7.4"
  }
 },
 "nbformat": 4,
 "nbformat_minor": 4
}
