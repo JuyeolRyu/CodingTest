{
 "cells": [
  {
   "cell_type": "code",
   "execution_count": null,
   "metadata": {},
   "outputs": [],
   "source": [
    "def solution(numbers, target):\n",
    "    answer = 0\n",
    "    def dfs(num,depth):\n",
    "        #배열의 끝까지 다 더했을 경우 or 아닌 경우\n",
    "        if(depth == len(numbers)):\n",
    "            #끝까지 더한 값이 target값과 같을 경우 answer += 1\n",
    "            if(num == target):\n",
    "                #함수 밖에 있는 지역변수를 사용하는 기능\n",
    "                nonlocal answer\n",
    "                answer += 1\n",
    "            return;\n",
    "        else:\n",
    "            #왼쪽 자식노드는 +numbers[depth]\n",
    "            #오른쪽 자식노드는 +numbers[depth]\n",
    "            dfs(num + numbers[depth], depth+1)\n",
    "            dfs(num - numbers[depth], depth+1)\n",
    "    \n",
    "    dfs(0,0)\n",
    "    return answer"
   ]
  }
 ],
 "metadata": {
  "kernelspec": {
   "display_name": "Python 3",
   "language": "python",
   "name": "python3"
  },
  "language_info": {
   "codemirror_mode": {
    "name": "ipython",
    "version": 3
   },
   "file_extension": ".py",
   "mimetype": "text/x-python",
   "name": "python",
   "nbconvert_exporter": "python",
   "pygments_lexer": "ipython3",
   "version": "3.7.4"
  }
 },
 "nbformat": 4,
 "nbformat_minor": 4
}
