{
 "cells": [
  {
   "cell_type": "code",
   "execution_count": null,
   "metadata": {},
   "outputs": [],
   "source": [
    " def solution(begin, target, words):\n",
    "    answer = 0\n",
    "    #큐에 변환할 대상들을 넣는다\n",
    "    queue = []\n",
    "    queue.append(begin)\n",
    "    \n",
    "    #너비탐색\n",
    "    def bfs(queue,target,words):\n",
    "        nonlocal answer\n",
    "        answer += 1\n",
    "        \n",
    "        #1글자만 바꿔서 갈수 있는 단어들을 visited에 넣는다.\n",
    "        visited = []\n",
    "        #이번에 큐에서 빼낼 단어의 개수\n",
    "        len_queue = len(queue)\n",
    "        \n",
    "        #큐에서 모든 단어를 빼서 각각 변환될수 있는 단어들을 찾는다\n",
    "        for loop in range(len_queue):\n",
    "            my_begin = queue.pop(0)\n",
    "            \n",
    "            #남은 단어들에서 비교\n",
    "            for word in words:\n",
    "                cnt = 0\n",
    "                #한글자만 다른 단어들을 찾는다\n",
    "                for i in range(len(my_begin)):\n",
    "                    if(my_begin[i] != word[i]):\n",
    "                        cnt += 1\n",
    "                    if(cnt > 1):\n",
    "                        break\n",
    "                #한글자만 다른 단어들을 리스트에 넣어준다.\n",
    "                if(cnt == 1):\n",
    "                    queue.append(word)\n",
    "                    visited.append(word)\n",
    "                #방문한 단어들을 words에서 삭제\n",
    "                for i in range(len(visited)):\n",
    "                    words.remove(visited.pop(0))\n",
    "        \n",
    "        #큐에 타겟이 있으면 return\n",
    "        if(target in queue):\n",
    "            return;\n",
    "        #다음 단계 탐색\n",
    "        bfs(queue,target,words)\n",
    "    \n",
    "    #타겟이 리스트에 없는 경우\n",
    "    if(target not in words):\n",
    "        return 0\n",
    "    \n",
    "    bfs(queue,target,words)\n",
    "       \n",
    "    return answer"
   ]
  }
 ],
 "metadata": {
  "kernelspec": {
   "display_name": "Python 3",
   "language": "python",
   "name": "python3"
  },
  "language_info": {
   "codemirror_mode": {
    "name": "ipython",
    "version": 3
   },
   "file_extension": ".py",
   "mimetype": "text/x-python",
   "name": "python",
   "nbconvert_exporter": "python",
   "pygments_lexer": "ipython3",
   "version": "3.7.4"
  }
 },
 "nbformat": 4,
 "nbformat_minor": 4
}
