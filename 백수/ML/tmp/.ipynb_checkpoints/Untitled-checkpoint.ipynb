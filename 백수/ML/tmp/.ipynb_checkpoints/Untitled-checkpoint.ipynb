{
 "cells": [
  {
   "cell_type": "code",
   "execution_count": 29,
   "id": "81a24d71",
   "metadata": {},
   "outputs": [],
   "source": [
    "import os\n",
    "import csv\n",
    "import sys\n",
    "import pandas as pd\n",
    "import numpy as np\n",
    "from sklearn import linear_model as lm\n",
    "from sklearn import preprocessing as pp\n",
    "from matplotlib import pyplot as plt"
   ]
  },
  {
   "cell_type": "code",
   "execution_count": 30,
   "id": "8059acc8",
   "metadata": {},
   "outputs": [],
   "source": [
    "TRAIN_PATH = './train.csv'\n",
    "TEST_PATH = './test.csv'"
   ]
  },
  {
   "cell_type": "code",
   "execution_count": 31,
   "id": "61b361b6",
   "metadata": {
    "scrolled": true
   },
   "outputs": [],
   "source": [
    "def data_read(path):\n",
    "    f = open(path,'r')\n",
    "    rdr = csv.reader(f)\n",
    "  \n",
    "    return list(rdr)"
   ]
  },
  {
   "cell_type": "code",
   "execution_count": 34,
   "id": "5520dda4",
   "metadata": {
    "scrolled": true
   },
   "outputs": [
    {
     "name": "stdout",
     "output_type": "stream",
     "text": [
      "4\n",
      "[[0.05 0.54]\n",
      " [0.91 0.91]\n",
      " [0.31 0.76]\n",
      " [0.51 0.31]]\n"
     ]
    }
   ],
   "source": [
    "train_data=data_read(TRAIN_PATH)\n",
    "test_data = data_read(TEST_PATH)\n",
    "F,N = map(int,train_data[0][0].split())\n",
    "T = int(test_data[0][0])\n",
    "train = np.array([ list(map(float,row[0].split())) for row in train_data[1:]])\n",
    "test = np.array([ list(map(float,row[0].split())) for row in test_data[1:]])"
   ]
  },
  {
   "cell_type": "code",
   "execution_count": 47,
   "id": "ecd1e51f",
   "metadata": {},
   "outputs": [
    {
     "name": "stdout",
     "output_type": "stream",
     "text": [
      "180.37682442542376\n",
      "1312.065059655541\n",
      "440.1292532979131\n",
      "343.71538007584235\n"
     ]
    }
   ],
   "source": [
    "lin_reg = lm.LinearRegression()\n",
    "poly_reg = pp.PolynomialFeatures(3,include_bias=False)\n",
    "\n",
    "lin_reg.fit(poly_reg.fit_transform(train[:,:-1]),train[:,-1])\n",
    "\n",
    "result = lin_reg.predict(poly_reg.fit_transform(test))\n",
    "\n",
    "for r in result:\n",
    "    print(r)"
   ]
  },
  {
   "cell_type": "code",
   "execution_count": null,
   "id": "21482c40",
   "metadata": {},
   "outputs": [],
   "source": [
    "import sys\n",
    "import numpy as np\n",
    "from scipy.stats import mode\n",
    "import math\n",
    "input = sys.stdin.readline\n",
    "\n",
    "n = int(input())\n",
    "nums = list(map(int,input().split()))\n",
    "\n",
    "print(np.mean(nums))\n",
    "print(np.median(nums))\n",
    "print(int(mode(nums)[0]))\n",
    "print(np.std(nums))"
   ]
  },
  {
   "cell_type": "code",
   "execution_count": 57,
   "id": "eabfda97",
   "metadata": {},
   "outputs": [
    {
     "name": "stdout",
     "output_type": "stream",
     "text": [
      "(0.14499815458068516, 0.6894014481166955)\n",
      "0.16109161536447894\n"
     ]
    }
   ],
   "source": [
    "import scipy.stats as stats\n",
    "physics = [15,12,8,8,7,7,7,6,5,3]\n",
    "history = [10,25,17,11,13,17,20,13,9,15]\n",
    "corr = stats.pearsonr(physics,history)\n",
    "print(corr)\n",
    "print(np.cov(physics,history)[0,1]/(3.250*4.669))"
   ]
  },
  {
   "cell_type": "code",
   "execution_count": 52,
   "id": "7c313699",
   "metadata": {},
   "outputs": [
    {
     "name": "stdout",
     "output_type": "stream",
     "text": [
      "3.249615361854384\n",
      "4.669047011971501\n"
     ]
    }
   ],
   "source": [
    "import numpy as np\n",
    "print(np.std(physics))\n",
    "print(np.std(history))"
   ]
  },
  {
   "cell_type": "code",
   "execution_count": null,
   "id": "e7f17659",
   "metadata": {},
   "outputs": [],
   "source": []
  },
  {
   "cell_type": "code",
   "execution_count": null,
   "id": "e97aab48",
   "metadata": {},
   "outputs": [],
   "source": []
  },
  {
   "cell_type": "markdown",
   "id": "98243be8",
   "metadata": {},
   "source": [
    "# 1.날짜 변환 모듈"
   ]
  },
  {
   "cell_type": "code",
   "execution_count": 13,
   "id": "bc60c396",
   "metadata": {},
   "outputs": [
    {
     "name": "stdout",
     "output_type": "stream",
     "text": [
      "2021-07-10 11:28:34.220663\n",
      "2021-07-10 11:28:34\n"
     ]
    }
   ],
   "source": [
    "import datetime as dt\n",
    "now = dt.datetime.now()\n",
    "print(now)\n",
    "print(dt.datetime.strptime(now.strftime(\"%Y-%m-%d %H:%M:%S\"),\"%Y-%m-%d %H:%M:%S\"))"
   ]
  },
  {
   "cell_type": "code",
   "execution_count": 16,
   "id": "c15135d1",
   "metadata": {},
   "outputs": [
    {
     "data": {
      "text/plain": [
       "datetime.datetime(2021, 7, 10, 11, 28, 34)"
      ]
     },
     "execution_count": 16,
     "metadata": {},
     "output_type": "execute_result"
    }
   ],
   "source": [
    "from dateutil.parser import parse\n",
    "parse(now.strftime(\"%Y-%m-%d %H:%M:%S\"))"
   ]
  },
  {
   "cell_type": "markdown",
   "id": "dd59f3e5",
   "metadata": {},
   "source": [
    "### (1) 날짜 간 계산 및 변환"
   ]
  },
  {
   "cell_type": "code",
   "execution_count": 21,
   "id": "ed46beb7",
   "metadata": {},
   "outputs": [
    {
     "name": "stdout",
     "output_type": "stream",
     "text": [
      "28 days, 2:21:00\n",
      "674.35 40461.0 2427660.0\n"
     ]
    }
   ],
   "source": [
    "date1 = dt.datetime(2021,6,12,12,40)\n",
    "date2 = dt.datetime(2021,7,10,15,1)\n",
    "date_diff = date2-date1\n",
    "print(date_diff)\n",
    "\n",
    "#시간의 차이를 second로 변환\n",
    "date_diff_second = date_diff.total_seconds()\n",
    "date_diff_minute = date_diff_second/60\n",
    "date_diff_hour = date_diff_minute/60\n",
    "\n",
    "print(date_diff_hour,date_diff_minute,date_diff_second)"
   ]
  },
  {
   "cell_type": "markdown",
   "id": "3ce1f75d",
   "metadata": {},
   "source": [
    "# 2.Numpy 패키지"
   ]
  },
  {
   "cell_type": "code",
   "execution_count": 22,
   "id": "86313fd7",
   "metadata": {},
   "outputs": [],
   "source": [
    "import numpy as np"
   ]
  },
  {
   "cell_type": "markdown",
   "id": "8fd9949f",
   "metadata": {},
   "source": [
    "### (1) 배열 만들기"
   ]
  },
  {
   "cell_type": "code",
   "execution_count": 42,
   "id": "328c6405",
   "metadata": {
    "scrolled": true
   },
   "outputs": [
    {
     "name": "stdout",
     "output_type": "stream",
     "text": [
      "[1 2 3 4 5 6 7 8 9]\n",
      "<class 'numpy.ndarray'>\n",
      "[[1 2 3]\n",
      " [4 5 6]]\n",
      "<class 'numpy.ndarray'>\n"
     ]
    }
   ],
   "source": [
    "#1차원\n",
    "np_arr = np.array([1,2,3,4,5,6,7,8,9])\n",
    "print(np_arr)\n",
    "print(type(np_arr))\n",
    "#2차원\n",
    "np_arr_2D = np.array([ [1,2,3],[4,5,6] ])\n",
    "print(np_arr_2D)\n",
    "print(type(np_arr_2D))"
   ]
  },
  {
   "cell_type": "markdown",
   "id": "44f29630",
   "metadata": {},
   "source": [
    "### (2) 배열의 벡터 연산"
   ]
  },
  {
   "cell_type": "code",
   "execution_count": 44,
   "id": "5b9a95cf",
   "metadata": {},
   "outputs": [
    {
     "name": "stdout",
     "output_type": "stream",
     "text": [
      "[ 2  4  6  8 10 12 14 16 18]\n",
      "[1 0 1 0 1 0 1 0 1]\n",
      "[False  True False  True False  True False  True False]\n",
      "[False False False False False  True  True  True  True]\n",
      "[[ 2  4  6]\n",
      " [ 8 10 12]]\n",
      "[[False  True False]\n",
      " [ True False  True]]\n"
     ]
    }
   ],
   "source": [
    "#1차원\n",
    "print(np_arr*2)\n",
    "print(np_arr%2)\n",
    "print(np_arr%2 == 0)\n",
    "print(np_arr > 5)\n",
    "\n",
    "#2차원\n",
    "print(np_arr_2D*2)\n",
    "print(np_arr_2D%2 == 0)"
   ]
  },
  {
   "cell_type": "markdown",
   "id": "a943bb7f",
   "metadata": {},
   "source": [
    "### (3)배열의 크기 및 차원 알아내기"
   ]
  },
  {
   "cell_type": "code",
   "execution_count": 47,
   "id": "c048a14f",
   "metadata": {},
   "outputs": [
    {
     "name": "stdout",
     "output_type": "stream",
     "text": [
      "(2, 3)\n",
      "2\n"
     ]
    }
   ],
   "source": [
    "print(np_arr_2D.shape) #크기\n",
    "print(np_arr_2D.ndim)  #차원"
   ]
  },
  {
   "cell_type": "markdown",
   "id": "964c3fb2",
   "metadata": {},
   "source": [
    "### (4) 배열 인덱스 조작"
   ]
  },
  {
   "cell_type": "code",
   "execution_count": 54,
   "id": "2da3ac53",
   "metadata": {},
   "outputs": [
    {
     "name": "stdout",
     "output_type": "stream",
     "text": [
      "1 9\n",
      "[2 5]\n",
      "[[1 3]\n",
      " [4 6]\n",
      " [7 9]]\n"
     ]
    }
   ],
   "source": [
    "#일차원 배열\n",
    "print(np_arr[0],np_arr[-1])\n",
    "\n",
    "#2차원 배열\n",
    "#arr[행,열]\n",
    "print(np_arr_2D[:,1])\n",
    "\n",
    "#N차원 배열\n",
    "np_arr_3D = np.array([[1,2,3],[4,5,6],[7,8,9]])\n",
    "print(np_arr_3D[:,[True,False,True]])"
   ]
  },
  {
   "cell_type": "markdown",
   "id": "015cc843",
   "metadata": {},
   "source": [
    "### (5) numpy 자료형"
   ]
  },
  {
   "cell_type": "code",
   "execution_count": 62,
   "id": "de4409ad",
   "metadata": {},
   "outputs": [
    {
     "name": "stdout",
     "output_type": "stream",
     "text": [
      "int32\n",
      "nan\n",
      "False\n",
      "inf\n",
      "True\n"
     ]
    }
   ],
   "source": [
    "#배열 내부 데이터 타입 검색\n",
    "print(np_arr.dtype)\n",
    "\n",
    "#nan(not a number)\n",
    "print(np.nan)\n",
    "print(np.nan == 1)\n",
    "\n",
    "#inf(무한대)\n",
    "print(np.inf)\n",
    "print(np.inf > 10)"
   ]
  },
  {
   "cell_type": "code",
   "execution_count": null,
   "id": "ca20dbaa",
   "metadata": {},
   "outputs": [],
   "source": []
  },
  {
   "cell_type": "code",
   "execution_count": null,
   "id": "6221641a",
   "metadata": {},
   "outputs": [],
   "source": []
  },
  {
   "cell_type": "code",
   "execution_count": null,
   "id": "610229b6",
   "metadata": {},
   "outputs": [],
   "source": []
  },
  {
   "cell_type": "code",
   "execution_count": null,
   "id": "d2338e61",
   "metadata": {},
   "outputs": [],
   "source": []
  },
  {
   "cell_type": "code",
   "execution_count": null,
   "id": "b823a919",
   "metadata": {},
   "outputs": [],
   "source": []
  },
  {
   "cell_type": "code",
   "execution_count": null,
   "id": "1684bc1e",
   "metadata": {},
   "outputs": [],
   "source": []
  },
  {
   "cell_type": "code",
   "execution_count": null,
   "id": "3e88ab31",
   "metadata": {},
   "outputs": [],
   "source": []
  },
  {
   "cell_type": "code",
   "execution_count": null,
   "id": "9b1cbf93",
   "metadata": {},
   "outputs": [],
   "source": []
  },
  {
   "cell_type": "code",
   "execution_count": null,
   "id": "4e9c415a",
   "metadata": {},
   "outputs": [],
   "source": []
  }
 ],
 "metadata": {
  "kernelspec": {
   "display_name": "Python 3",
   "language": "python",
   "name": "python3"
  },
  "language_info": {
   "codemirror_mode": {
    "name": "ipython",
    "version": 3
   },
   "file_extension": ".py",
   "mimetype": "text/x-python",
   "name": "python",
   "nbconvert_exporter": "python",
   "pygments_lexer": "ipython3",
   "version": "3.6.13"
  }
 },
 "nbformat": 4,
 "nbformat_minor": 5
}
