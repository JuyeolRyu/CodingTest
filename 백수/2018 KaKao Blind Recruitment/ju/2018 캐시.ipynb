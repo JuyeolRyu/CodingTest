{
 "cells": [
  {
   "cell_type": "code",
   "execution_count": null,
   "metadata": {},
   "outputs": [],
   "source": [
    "def solution(cacheSize, cities):\n",
    "    answer = 0\n",
    "    city_size = len(cities)\n",
    "    cache = []\n",
    "    check = False\n",
    "    \n",
    "    if(cacheSize == 0):#캐시 크기 0인 경우\n",
    "        return len(cities)*5\n",
    "    for city in cities:\n",
    "        if(len(cache) == 0): #첫번째의 경우만 그냥 넣어줌\n",
    "            cache.append(city.lower())\n",
    "            answer += 5\n",
    "        else:\n",
    "            for i in range(len(cache)):#캐시 hit인지 검사\n",
    "                if(cache[i] == city.lower()):\n",
    "                    answer += 1\n",
    "                    check = True#hit인지 확인하기 위한 flag\n",
    "                    break\n",
    "\n",
    "            if(check):#hit\n",
    "                cache.remove(city.lower())#겹치는거 캐시에서 제거\n",
    "                check = False\n",
    "            else:\n",
    "                if(len(cache) == cacheSize):#캐시 꽉찼을 경우만 제일 앞 제거\n",
    "                    cache.remove(cache[0])\n",
    "                answer += 5\n",
    "            cache.append(city.lower())#캐시에 최근 항목 넣어줌\n",
    "    return answer\n",
    "    "
   ]
  }
 ],
 "metadata": {
  "kernelspec": {
   "display_name": "Python 3",
   "language": "python",
   "name": "python3"
  },
  "language_info": {
   "codemirror_mode": {
    "name": "ipython",
    "version": 3
   },
   "file_extension": ".py",
   "mimetype": "text/x-python",
   "name": "python",
   "nbconvert_exporter": "python",
   "pygments_lexer": "ipython3",
   "version": "3.7.4"
  }
 },
 "nbformat": 4,
 "nbformat_minor": 2
}
