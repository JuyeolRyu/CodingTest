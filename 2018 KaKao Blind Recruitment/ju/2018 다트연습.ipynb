{
 "cells": [
  {
   "cell_type": "code",
   "execution_count": null,
   "metadata": {},
   "outputs": [],
   "source": [
    "def solution(dartResult):\n",
    "    answer = 0\n",
    "    tmp_arr = \"\"\n",
    "    lst = [] #정수들어갈 리스트\n",
    "    for i in dartResult:\n",
    "        if(i == 'S' or i == 'D' or i == 'T'):\n",
    "            lst.append(power(tmp_arr, i))\n",
    "            tmp_arr = \"\"\n",
    "        elif(i == '*'):\n",
    "            if(len(lst) == 1): #첫번째의 경우 예외\n",
    "                lst[0] = lst[0] * 2\n",
    "            else:\n",
    "                lst[len(lst) - 1] = lst[len(lst) - 1] * 2\n",
    "                lst[len(lst) - 2] = lst[len(lst) - 2] * 2\n",
    "        elif(i == '#'):\n",
    "            lst[len(lst) - 1] = -lst[len(lst) - 1]\n",
    "        else:\n",
    "            tmp_arr = tmp_arr + i\n",
    "            \n",
    "    for i in lst:\n",
    "        answer += i\n",
    "        print(i)\n",
    "    return answer\n",
    "\n",
    "def power(num , cha):#제곱 메소드\n",
    "    result = int(num)\n",
    "    if(cha == 'S'):\n",
    "        return result\n",
    "    else:\n",
    "        for i in range(2):\n",
    "            result *= int(num)\n",
    "            if(cha == 'D'):\n",
    "                return result\n",
    "    return result\n",
    "        "
   ]
  }
 ],
 "metadata": {
  "kernelspec": {
   "display_name": "Python 3",
   "language": "python",
   "name": "python3"
  },
  "language_info": {
   "codemirror_mode": {
    "name": "ipython",
    "version": 3
   },
   "file_extension": ".py",
   "mimetype": "text/x-python",
   "name": "python",
   "nbconvert_exporter": "python",
   "pygments_lexer": "ipython3",
   "version": "3.7.4"
  }
 },
 "nbformat": 4,
 "nbformat_minor": 2
}
