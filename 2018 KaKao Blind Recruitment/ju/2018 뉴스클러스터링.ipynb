{
 "cells": [
  {
   "cell_type": "code",
   "execution_count": null,
   "metadata": {},
   "outputs": [],
   "source": [
    "import collections\n",
    "def solution(str1, str2):\n",
    "    answer = 0\n",
    "    dic = []\n",
    "    dic2 = []\n",
    "    for i in range(len(str1) - 1):\n",
    "        if(str1[i:i+2].isalpha()):#알파벳이면 추가\n",
    "            dic.append(str1[i:i+2].lower())\n",
    "            \n",
    "    for i in range(len(str2) - 1):\n",
    "        if(str2[i:i+2].isalpha()):\n",
    "            dic2.append(str2[i:i+2].lower()) \n",
    "    \n",
    "    if(len(dic) == 0 and len(dic2) == 0):\n",
    "        return 65536\n",
    "    dic_cnt, dic2_cnt = collections.Counter(dic), collections.Counter(dic2) #collections.Counter ==> 리스트에서 중복값 개수 측정\n",
    "    union = set(dic).union(set(dic2)) #합집합==>리스트말고 set 만 됨\n",
    "    inter = set(dic).intersection(set(dic2)) #교집합\n",
    "    \n",
    "    top = 0\n",
    "    bot = 0\n",
    "    for i in union: #합집합중에서 겹치는 단어 최대값만 더해줌\n",
    "        bot += max(dic_cnt[i],dic2_cnt[i])\n",
    "    for i in inter: #교집합에서 겹치는 단어 최솟값만 더해줌\n",
    "        top += min(dic_cnt[i],dic2_cnt[i])\n",
    "    \n",
    "    answer = int(top/bot*65536)\n",
    "\n",
    "    return answer"
   ]
  }
 ],
 "metadata": {
  "kernelspec": {
   "display_name": "Python 3",
   "language": "python",
   "name": "python3"
  },
  "language_info": {
   "codemirror_mode": {
    "name": "ipython",
    "version": 3
   },
   "file_extension": ".py",
   "mimetype": "text/x-python",
   "name": "python",
   "nbconvert_exporter": "python",
   "pygments_lexer": "ipython3",
   "version": "3.7.4"
  }
 },
 "nbformat": 4,
 "nbformat_minor": 2
}
