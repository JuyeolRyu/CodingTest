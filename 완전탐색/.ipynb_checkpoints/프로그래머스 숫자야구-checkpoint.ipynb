{
 "cells": [
  {
   "cell_type": "code",
   "execution_count": null,
   "metadata": {},
   "outputs": [],
   "source": [
    "def solution(baseball):\n",
    "    answer = 0\n",
    "    baseball_len = len(baseball)\n",
    "    \n",
    "    #모든 정답을 처음부터 확인\n",
    "    for i in range(123,988):\n",
    "        check = False\n",
    "        #문자열로 바꿔줌\n",
    "        tmp_ans = str(i)\n",
    "        \n",
    "        #0나오는 경우 건너뛰기\n",
    "        if(tmp_ans[1] == '0' or tmp_ans[2] == '0'):\n",
    "            continue\n",
    "        #각자리수가 모두 다를 경우만 실행하고 같으면 건너뛰기\n",
    "        if(tmp_ans[0] != tmp_ans[1] and tmp_ans[0] != tmp_ans[2] and tmp_ans[1] != tmp_ans[2]):\n",
    "            #테스트 개수만큼 반복문 돌기\n",
    "            for j in range(baseball_len):\n",
    "                #테스트할 숫자를 문자열로 바꿈\n",
    "                tmp_case = str(baseball[j][0])\n",
    "                result = [0,0]\n",
    "                #각 자리수 모두 비교해서 볼 스트라이크 구분\n",
    "                for k in range(3):\n",
    "                    if( (tmp_case[k] in tmp_ans) and (tmp_case[k] == tmp_ans[k]) ):\n",
    "                        result[0] += 1\n",
    "                    elif(tmp_case[k] in tmp_ans):\n",
    "                        result[1] += 1\n",
    "                \n",
    "                #임시 정답(tmp_ans)와 테스트 숫자 볼,스트라이크 비교해서 같으면 다음 테스트로 넘어가고 아니면 다음 정답으로 넘어감\n",
    "                if(result[0] == baseball[j][1] and result[1] == baseball[j][2]):\n",
    "                    check = True\n",
    "                else:\n",
    "                    check = False\n",
    "                    break\n",
    "        else:\n",
    "            continue\n",
    "        \n",
    "        #테스트가 모두 맞으면 answer + 1\n",
    "        if(check == True):\n",
    "            answer += 1\n",
    "            \n",
    "    return answer"
   ]
  }
 ],
 "metadata": {
  "kernelspec": {
   "display_name": "Python 3",
   "language": "python",
   "name": "python3"
  },
  "language_info": {
   "codemirror_mode": {
    "name": "ipython",
    "version": 3
   },
   "file_extension": ".py",
   "mimetype": "text/x-python",
   "name": "python",
   "nbconvert_exporter": "python",
   "pygments_lexer": "ipython3",
   "version": "3.7.4"
  }
 },
 "nbformat": 4,
 "nbformat_minor": 4
}
