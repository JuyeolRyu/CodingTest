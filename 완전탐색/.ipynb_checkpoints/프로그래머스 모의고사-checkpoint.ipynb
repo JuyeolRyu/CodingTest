{
 "cells": [
  {
   "cell_type": "code",
   "execution_count": null,
   "metadata": {},
   "outputs": [],
   "source": [
    "def solution(answers):\n",
    "    answer = []\n",
    "    supo = [ [1, 2, 3, 4, 5],\n",
    "             [2, 1, 2, 3, 2, 4, 2, 5],\n",
    "             [3, 3, 1, 1, 2, 2, 4, 4, 5, 5]]\n",
    "    points = [0,0,0] #점수 저장\n",
    "    max = 0\n",
    "    \n",
    "    for i in range(len(answers)): #같으면 점수 올리기\n",
    "        if(answers[i] == supo[0][i % 5]):\n",
    "            points[0] += 1\n",
    "        \n",
    "        if(answers[i] == supo[1][i % 8]):\n",
    "            points[1] += 1\n",
    "            \n",
    "        if(answers[i] == supo[2][i % 10]):\n",
    "            points[2] += 1\n",
    "    \n",
    "    for i in range(3): \n",
    "        if(points[i] > max): #점수가 max보다 크면 answer 비우고 새로운 index append\n",
    "            answer = []\n",
    "            max = points[i]\n",
    "            answer.append(i+1)\n",
    "        elif(points[i] == max): #점수가 max와 같으면 새로운 index append\n",
    "            answer.append(i+1)\n",
    "            \n",
    "    print(answer)\n",
    "    return answer"
   ]
  }
 ],
 "metadata": {
  "kernelspec": {
   "display_name": "Python 3",
   "language": "python",
   "name": "python3"
  },
  "language_info": {
   "codemirror_mode": {
    "name": "ipython",
    "version": 3
   },
   "file_extension": ".py",
   "mimetype": "text/x-python",
   "name": "python",
   "nbconvert_exporter": "python",
   "pygments_lexer": "ipython3",
   "version": "3.7.4"
  }
 },
 "nbformat": 4,
 "nbformat_minor": 4
}
