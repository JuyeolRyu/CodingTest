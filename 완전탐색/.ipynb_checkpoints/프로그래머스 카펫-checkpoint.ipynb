{
 "cells": [
  {
   "cell_type": "code",
   "execution_count": null,
   "metadata": {},
   "outputs": [],
   "source": [
    "def solution(brown, yellow):\n",
    "    answer = []\n",
    "    total = brown + yellow\n",
    "    x ,y = 1, 1\n",
    "    #갈색이 테두리 1칸씩만 감싸는 사각형 문제(그냥 방정식 풀이)\n",
    "    while (x <= total-1 ):\n",
    "        while( x >= y and (x+y <= total)):\n",
    "            if(x*y == total) and brown == (x*y - (x-2)*(y-2)):\n",
    "                answer.append(x)\n",
    "                answer.append(y)\n",
    "                return answer\n",
    "            y += 1\n",
    "        x+=1\n",
    "        y=1\n",
    "    return answer"
   ]
  }
 ],
 "metadata": {
  "kernelspec": {
   "display_name": "Python 3",
   "language": "python",
   "name": "python3"
  },
  "language_info": {
   "codemirror_mode": {
    "name": "ipython",
    "version": 3
   },
   "file_extension": ".py",
   "mimetype": "text/x-python",
   "name": "python",
   "nbconvert_exporter": "python",
   "pygments_lexer": "ipython3",
   "version": "3.7.4"
  }
 },
 "nbformat": 4,
 "nbformat_minor": 4
}
