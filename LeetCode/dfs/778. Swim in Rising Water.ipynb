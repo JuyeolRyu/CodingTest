{
 "cells": [
  {
   "cell_type": "code",
   "execution_count": null,
   "metadata": {},
   "outputs": [],
   "source": [
    "#우선순위 큐 사용 X 코드\n",
    "import sys\n",
    "class Solution:\n",
    "    def swimInWater(self, grid: List[List[int]]) -> int:\n",
    "        len_grid = len(grid)\n",
    "        p_queue = [(grid[0][0],0,0)]\n",
    "        visited = set([(0,0)])\n",
    "        ans = 0\n",
    "        \n",
    "        while True:\n",
    "            val,x,y = heapq.heappop(p_queue)\n",
    "            ans = max(ans,val)\n",
    "            \n",
    "            if x==y==len_grid-1:\n",
    "                return ans\n",
    "            \n",
    "            for i,j in [(x+1,y),(x-1,y),(x,y+1),(x,y-1)]:\n",
    "                if(0<=i<len_grid and 0<=j<len_grid and (i,j) not in visited):\n",
    "                    visited.add((i,j))\n",
    "                    heapq.heappush(p_queue, (grid[i][j],i,j))"
   ]
  },
  {
   "cell_type": "code",
   "execution_count": null,
   "metadata": {},
   "outputs": [],
   "source": [
    "#우선순위 큐 사용 O 코드\n",
    "import sys\n",
    "class Solution:\n",
    "    time = sys.maxsize\n",
    "    def visitNode(self,i,j,visited,grid,cost):\n",
    "        visited[i][j] = True\n",
    "        queue = []\n",
    "        \n",
    "        if(self.time < cost):\n",
    "            return;\n",
    "        if(i == len(grid)-1 and j == len(grid[0])-1):\n",
    "            self.time = cost\n",
    "            return;\n",
    "        \n",
    "        if(i>0):\n",
    "            queue.append([i-1,j])\n",
    "        if(i<len(grid)-1):\n",
    "            queue.append([i+1,j])\n",
    "        if(j>0):\n",
    "            queue.append([i,j-1])\n",
    "        if(j<len(grid)-1):\n",
    "            queue.append([i,j+1])\n",
    "        \n",
    "        while(queue):\n",
    "            node = queue.pop(0)\n",
    "\n",
    "            if(visited[node[0]][node[1]] == True):\n",
    "                continue\n",
    "            \n",
    "            if(grid[node[0]][node[1]] > cost):\n",
    "                self.visitNode(node[0],node[1],visited,grid,grid[node[0]][node[1]])\n",
    "            else:\n",
    "                self.visitNode(node[0],node[1],visited,grid,cost)\n",
    "            \n",
    "            visited[node[0]][node[1]] = False\n",
    "            \n",
    "    def swimInWater(self, grid: List[List[int]]) -> int:\n",
    "        #방문노드 배열 생성\n",
    "        visited = [[False for col in range(len(grid))] for row in range(len(grid))]\n",
    "\n",
    "        self.visitNode(0,0,visited,grid,grid[0][0])\n",
    "\n",
    "        return self.time"
   ]
  }
 ],
 "metadata": {
  "kernelspec": {
   "display_name": "Python 3",
   "language": "python",
   "name": "python3"
  },
  "language_info": {
   "codemirror_mode": {
    "name": "ipython",
    "version": 3
   },
   "file_extension": ".py",
   "mimetype": "text/x-python",
   "name": "python",
   "nbconvert_exporter": "python",
   "pygments_lexer": "ipython3",
   "version": "3.7.4"
  }
 },
 "nbformat": 4,
 "nbformat_minor": 4
}
