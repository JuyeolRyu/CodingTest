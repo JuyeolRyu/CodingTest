{
 "cells": [
  {
   "cell_type": "code",
   "execution_count": null,
   "metadata": {},
   "outputs": [],
   "source": [
    "def rule(ans): #조건 판별\n",
    "    for x,y,frame in ans:\n",
    "        if(frame == 0):#기둥\n",
    "            if(y == 0 or (x-1,y,1) in ans or (x,y,1) in ans or (x,y-1,0) in ans):\n",
    "                continue\n",
    "            else:\n",
    "                return False\n",
    "        elif(frame == 1):#보\n",
    "            if((x,y-1,0) in ans or (x+1,y-1,0) in ans or ((x-1,y,1) in ans and (x+1,y,1) in ans)):\n",
    "                continue\n",
    "            else:\n",
    "                return False\n",
    "    return True\n",
    "        \n",
    "def solution(n, build_frame):\n",
    "    ans = set()\n",
    "    answer = []\n",
    "    for i in build_frame:\n",
    "        #print(i,ans)\n",
    "        x,y,frame,build = i\n",
    "        \n",
    "        if(build == 1):#설치\n",
    "            ans.add((x,y,frame))\n",
    "            check = rule(ans)\n",
    "            \n",
    "            if(check):\n",
    "                continue\n",
    "            else:\n",
    "                ans.remove((x,y,frame))\n",
    "        elif(build == 0):#삭제\n",
    "            if((x,y,frame) in ans):\n",
    "                ans.remove((x,y,frame))\n",
    "                check = rule(ans)\n",
    "                \n",
    "                if(check):\n",
    "                    continue\n",
    "                else:\n",
    "                    ans.add((x,y,frame))\n",
    "            else:\n",
    "                continue\n",
    "    for i in ans:\n",
    "        answer.append(list(i))\n",
    "    \n",
    "    answer.sort(key = lambda x:(x[0],x[1],x[2]))\n",
    "    #print(answer)\n",
    "    return answer"
   ]
  }
 ],
 "metadata": {
  "kernelspec": {
   "display_name": "Python 3",
   "language": "python",
   "name": "python3"
  },
  "language_info": {
   "codemirror_mode": {
    "name": "ipython",
    "version": 3
   },
   "file_extension": ".py",
   "mimetype": "text/x-python",
   "name": "python",
   "nbconvert_exporter": "python",
   "pygments_lexer": "ipython3",
   "version": "3.7.4"
  }
 },
 "nbformat": 4,
 "nbformat_minor": 4
}
