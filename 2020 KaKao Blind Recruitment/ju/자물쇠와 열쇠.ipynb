{
 "cells": [
  {
   "cell_type": "code",
   "execution_count": null,
   "metadata": {},
   "outputs": [],
   "source": [
    "import copy\n",
    "def rotate(key):#키 회전\n",
    "    key_len = len(key)\n",
    "    rotate_key = [[0]*key_len for i in range(key_len)]\n",
    "\n",
    "    for i in range(key_len):\n",
    "        for j in range(key_len):\n",
    "            rotate_key[j][key_len-1-i] = key[i][j]\n",
    "    \n",
    "    return rotate_key\n",
    "def padding(lock,key_len): #배열 확장시켜주기\n",
    "    arr_size = (key_len-1)*2 + len(lock)\n",
    "    #(키-1)*2 + lock 크기의 배열을 생성한다\n",
    "    padding_lock = [[0]*arr_size for i in range(arr_size)]\n",
    "    \n",
    "    for i in range(len(lock)):\n",
    "        for j in range(len(lock)):\n",
    "            padding_lock[i+key_len-1][j+key_len-1] = lock[i][j]\n",
    "    \n",
    "    return padding_lock\n",
    "\n",
    "def check(padding_lock,key_len,lock_len):\n",
    "    for i in range(lock_len):\n",
    "        for j in range(lock_len):\n",
    "            if padding_lock[i+key_len-1][j+key_len-1] != 1:\n",
    "                return False\n",
    "            \n",
    "    return True\n",
    "def solution(key, lock):\n",
    "    answer = False\n",
    "    key_len = len(key)\n",
    "    lock_len = len(lock)\n",
    "    key90 = rotate(key)\n",
    "    key180 = rotate(key90)\n",
    "    key270 = rotate(key180)\n",
    "    padding_lock = padding(lock,key_len)\n",
    "    \n",
    "    for i_start in range((key_len-1) + lock_len):\n",
    "        for j_start in range((key_len-1) + lock_len):\n",
    "            for k in [key,key90,key180,key270]:\n",
    "                tmp_arr = copy.deepcopy(padding_lock)\n",
    "                \n",
    "                for i in range(key_len):\n",
    "                    for j in range(key_len):\n",
    "                        tmp_arr[i_start + i][j_start + j] += k[i][j]\n",
    "                \n",
    "                answer = check(tmp_arr,key_len,lock_len)\n",
    "                        \n",
    "                if(answer):\n",
    "                    return True\n",
    "                    \n",
    "    return answer"
   ]
  }
 ],
 "metadata": {
  "kernelspec": {
   "display_name": "Python 3",
   "language": "python",
   "name": "python3"
  },
  "language_info": {
   "codemirror_mode": {
    "name": "ipython",
    "version": 3
   },
   "file_extension": ".py",
   "mimetype": "text/x-python",
   "name": "python",
   "nbconvert_exporter": "python",
   "pygments_lexer": "ipython3",
   "version": "3.7.4"
  }
 },
 "nbformat": 4,
 "nbformat_minor": 4
}
