{
 "cells": [
  {
   "cell_type": "code",
   "execution_count": null,
   "metadata": {},
   "outputs": [],
   "source": [
    "def solution(s):\n",
    "    answer = 1000\n",
    "    s_len = len(s) #s(문자열)의 길이 저장\n",
    "    \n",
    "    \n",
    "    \n",
    "    for i in range(s_len):\n",
    "        tmp = 0\n",
    "        if(s_len % (i+1) != 0):#하나의 길이로 압축 다 안됨\n",
    "            tmp = comp(s,i+1) + s_len%(i+1)\n",
    "            if(answer > tmp):\n",
    "                answer = tmp\n",
    "        else:#하나의 길이로 압축 다 됨\n",
    "            tmp = comp(s,i+1)\n",
    "            if(answer > tmp):\n",
    "                answer = tmp\n",
    "            \n",
    "    return answer\n",
    "\n",
    "def comp(s, comp_len):\n",
    "    pre_str = \"\"#이전에 압축하던 문자열 저장\n",
    "    answer = 0\n",
    "    stack = 0\n",
    "    \n",
    "    for i in range(int(len(s)/comp_len)):\n",
    "        if(pre_str == ''):#처음 압축 시작하는 경우\n",
    "            pre_str = s[i*comp_len : i*comp_len + comp_len]#현재의 문자열 저장\n",
    "            answer += comp_len#압축하는 문자열의 길이만큼 더해줌\n",
    "            stack += 1#스택 올려줌\n",
    "        else:#그 외\n",
    "            if(pre_str == s[i*comp_len : i*comp_len + comp_len]):#이전에 압축하던 문자열과 현재 문자열이 같은 경우\n",
    "                if(stack == 1):#아직 한번밖에 압축 안한 경우\n",
    "                    answer += 1\n",
    "                    stack += 1\n",
    "                else:\n",
    "                    stack += 1\n",
    "                    if(stack == 10):#10,100,1000은 압축할때 answer1씩 더해줌\n",
    "                        answer += 1\n",
    "                    elif(stack == 100):\n",
    "                        answer += 1\n",
    "                    elif(stack == 1000):\n",
    "                        answer += 1\n",
    "            elif(pre_str != s[i*comp_len : i*comp_len + comp_len]):#새로운 문자열 압축 시작\n",
    "                pre_str = s[i*comp_len : i*comp_len + comp_len]#새로운 문자열 저장\n",
    "                answer += comp_len#문자열의 길이 더해줌\n",
    "                stack = 1#스택 초기화\n",
    "        \n",
    "    return answer     "
   ]
  }
 ],
 "metadata": {
  "kernelspec": {
   "display_name": "Python 3",
   "language": "python",
   "name": "python3"
  },
  "language_info": {
   "codemirror_mode": {
    "name": "ipython",
    "version": 3
   },
   "file_extension": ".py",
   "mimetype": "text/x-python",
   "name": "python",
   "nbconvert_exporter": "python",
   "pygments_lexer": "ipython3",
   "version": "3.7.4"
  }
 },
 "nbformat": 4,
 "nbformat_minor": 2
}
